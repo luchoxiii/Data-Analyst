{
 "cells": [
  {
   "cell_type": "markdown",
   "id": "b9b57b76",
   "metadata": {},
   "source": [
    "## Ejercicio de analisis de geolocalizacion"
   ]
  },
  {
   "cell_type": "markdown",
   "id": "0fd18629",
   "metadata": {},
   "source": [
    "Se cuenta con el dataset ubicaciones.csv, dicho dataset posee coordenadas de diferentes lugares de interes.\n",
    "<br>Se sabe que cuando se agrupan 8 lugares o mas esa zona se la considera zona comercial.\n",
    "<br>Para decir que un local pertenece a la misma zona que otro, deben estar a una distancia menor a 1.2 km\n",
    "- Crear poligonos con todas las zonas comerciales que se encuentren en el dataset.\n",
    "- Una vez encontradas marcar su zona de influencia que es dentro del poligono pero tambien hasta 400m de los limites del mismo\n",
    "- Graficar en un mapa todos los comercios y las zonas de influencia comercial"
   ]
  }
 ],
 "metadata": {
  "language_info": {
   "name": "python"
  }
 },
 "nbformat": 4,
 "nbformat_minor": 5
}
